{
 "cells": [
  {
   "cell_type": "markdown",
   "metadata": {},
   "source": [
    "# Import test sample of dataset"
   ]
  },
  {
   "cell_type": "code",
   "execution_count": 18,
   "metadata": {},
   "outputs": [],
   "source": [
    "import torch\n",
    "MVTEC_ROOT_DIR = \"/scratch/ssd002/datasets/MVTec_AD\"\n",
    "from vector_cv_tools import transforms as VT\n",
    "import albumentations as A\n",
    "from albumentations.pytorch import ToTensorV2\n",
    "from vector_cv_tools import datasets as vdatasets\n",
    "\n",
    "from tqdm.notebook import tqdm\n",
    "from random import seed, sample\n",
    "\n",
    "basic_transform = VT.ComposeMVTecTransform([A.Resize(128, 128), A.ToFloat(max_value=255), ToTensorV2()])\n",
    "\n",
    "from vector_cv_tools.datasets.mvtec import MVTec_OBJECTS"
   ]
  },
  {
   "cell_type": "code",
   "execution_count": 7,
   "metadata": {},
   "outputs": [],
   "source": [
    "dsets = list(vdatasets.MVTec(MVTEC_ROOT_DIR, split=\"test\", transforms = basic_transform,\n",
    "                             obj_types=[obj_type]) for obj_type in MVTec_OBJECTS)"
   ]
  },
  {
   "cell_type": "code",
   "execution_count": 8,
   "metadata": {},
   "outputs": [
    {
     "name": "stdout",
     "output_type": "stream",
     "text": [
      "There are 83 bottles here.\n",
      "There are 150 cables here.\n",
      "There are 132 capsules here.\n",
      "There are 117 carpets here.\n",
      "There are 78 grids here.\n",
      "There are 110 hazelnuts here.\n",
      "There are 124 leathers here.\n",
      "There are 115 metal_nuts here.\n",
      "There are 167 pills here.\n",
      "There are 160 screws here.\n",
      "There are 117 tiles here.\n",
      "There are 42 toothbrushs here.\n",
      "There are 100 transistors here.\n",
      "There are 79 woods here.\n",
      "There are 151 zippers here.\n"
     ]
    }
   ],
   "source": [
    "for ob_name, dset in zip(MVTec_OBJECTS,dsets):\n",
    "    print(f\"There are {len(dset)} {ob_name}s here.\")"
   ]
  },
  {
   "cell_type": "code",
   "execution_count": 21,
   "metadata": {},
   "outputs": [
    {
     "data": {
      "text/plain": [
       "torch.Size([128, 128])"
      ]
     },
     "execution_count": 21,
     "metadata": {},
     "output_type": "execute_result"
    }
   ],
   "source": [
    "dsets[0][0][1]['mask'].size()"
   ]
  },
  {
   "cell_type": "code",
   "execution_count": 20,
   "metadata": {},
   "outputs": [
    {
     "data": {
      "text/plain": [
       "torch.Size([128, 128])"
      ]
     },
     "execution_count": 20,
     "metadata": {},
     "output_type": "execute_result"
    }
   ],
   "source": [
    "good_mask = torch.zeros_like(dsets[0][0][1]['mask'])\n",
    "good_mask.size()"
   ]
  },
  {
   "cell_type": "code",
   "execution_count": 25,
   "metadata": {},
   "outputs": [
    {
     "data": {
      "application/vnd.jupyter.widget-view+json": {
       "model_id": "be7fd27cd1bd4470852c7c986d4413e9",
       "version_major": 2,
       "version_minor": 0
      },
      "text/plain": [
       "HBox(children=(FloatProgress(value=0.0, max=15.0), HTML(value='')))"
      ]
     },
     "metadata": {},
     "output_type": "display_data"
    },
    {
     "name": "stdout",
     "output_type": "stream",
     "text": [
      "\n"
     ]
    }
   ],
   "source": [
    "goods_w_masks=[]\n",
    "bads_w_masks=[]\n",
    "for dset in tqdm(dsets):\n",
    "    goods_w_masks+=[[]]\n",
    "    bads_w_masks+=[[]]\n",
    "    for thingamajig in dset:\n",
    "        if \"good\" == thingamajig[1]['label_names'][1]:\n",
    "            goods_w_masks[-1]+=[[thingamajig[0].unsqueeze(0),\n",
    "                                good_mask.unsqueeze(0).unsqueeze(0)]]\n",
    "        else:\n",
    "            bads_w_masks[-1]+=[[thingamajig[0].unsqueeze(0),\n",
    "                               thingamajig[1]['mask'].unsqueeze(0).unsqueeze(0)]]"
   ]
  },
  {
   "cell_type": "code",
   "execution_count": 26,
   "metadata": {},
   "outputs": [
    {
     "name": "stdout",
     "output_type": "stream",
     "text": [
      "Good:\n",
      "              bottles: 20\n",
      "               cables: 58\n",
      "             capsules: 23\n",
      "              carpets: 28\n",
      "                grids: 21\n",
      "            hazelnuts: 40\n",
      "             leathers: 32\n",
      "           metal_nuts: 22\n",
      "                pills: 26\n",
      "               screws: 41\n",
      "                tiles: 33\n",
      "          toothbrushs: 12\n",
      "          transistors: 60\n",
      "                woods: 19\n",
      "              zippers: 32\n",
      "Bad:\n",
      "              bottles: 63\n",
      "               cables: 92\n",
      "             capsules: 109\n",
      "              carpets: 89\n",
      "                grids: 57\n",
      "            hazelnuts: 70\n",
      "             leathers: 92\n",
      "           metal_nuts: 93\n",
      "                pills: 141\n",
      "               screws: 119\n",
      "                tiles: 84\n",
      "          toothbrushs: 30\n",
      "          transistors: 40\n",
      "                woods: 60\n",
      "              zippers: 119\n"
     ]
    }
   ],
   "source": [
    "print(\"Good:\")\n",
    "for ob_name, dset in zip(MVTec_OBJECTS,goods_w_masks):\n",
    "    print(f\"{ob_name.rjust(20)}s: {len(dset)}\")\n",
    "print(\"Bad:\")\n",
    "for ob_name, dset in zip(MVTec_OBJECTS,bads_w_masks):\n",
    "    print(f\"{ob_name.rjust(20)}s: {len(dset)}\")"
   ]
  },
  {
   "cell_type": "code",
   "execution_count": 28,
   "metadata": {},
   "outputs": [],
   "source": [
    "sample_size_per_ob = 10\n",
    "seed(42) # the same random sample every time. Change if you want a different random sampling.\n",
    "img_samples = []\n",
    "mask_samples = []\n",
    "for obs in goods_w_masks:\n",
    "    samples = sample(obs,sample_size_per_ob)\n",
    "    for img, mask in samples:\n",
    "        img_samples += [img]\n",
    "        mask_samples += [mask]\n",
    "for obs in bads_w_masks:\n",
    "    samples = sample(obs,sample_size_per_ob)\n",
    "    for img, mask in samples:\n",
    "        img_samples += [img]\n",
    "        mask_samples += [mask]"
   ]
  },
  {
   "cell_type": "code",
   "execution_count": 29,
   "metadata": {},
   "outputs": [],
   "source": [
    "sample_tensor = torch.cat(img_samples,0).cuda()\n",
    "masks_tensor = torch.cat(mask_samples,0).cuda()"
   ]
  },
  {
   "cell_type": "code",
   "execution_count": 36,
   "metadata": {},
   "outputs": [
    {
     "name": "stdout",
     "output_type": "stream",
     "text": [
      "torch.Size([300, 3, 128, 128])\n",
      "torch.Size([300, 1, 128, 128])\n"
     ]
    }
   ],
   "source": [
    "print(sample_tensor.size())\n",
    "print(masks_tensor.size())"
   ]
  },
  {
   "cell_type": "markdown",
   "metadata": {},
   "source": [
    "There. We have a 'sample_tensor' and corrisponding 'mask_tensor' now containing all of our test images that can be fed into our model all at once. Very nice and easy and fast.\n",
    "\n",
    "It would be a good idea to just save this tensor rather than doing all that each time."
   ]
  },
  {
   "cell_type": "markdown",
   "metadata": {},
   "source": [
    "# Load model for getting reconstructions"
   ]
  },
  {
   "cell_type": "code",
   "execution_count": 37,
   "metadata": {},
   "outputs": [],
   "source": [
    "import fishae\n",
    "import fishvae"
   ]
  },
  {
   "cell_type": "code",
   "execution_count": 38,
   "metadata": {},
   "outputs": [],
   "source": [
    "%%capture\n",
    " # we don't like this output. It is big and ugly\n",
    "    \n",
    "aeModel = torch.nn.DataParallel(fishae.FishAE())\n",
    "aeModel.eval()\n",
    "vaeModel = torch.nn.DataParallel(fishvae.FishVAE())\n",
    "vaeModel.eval()"
   ]
  },
  {
   "cell_type": "code",
   "execution_count": 39,
   "metadata": {},
   "outputs": [],
   "source": [
    "#Oh! That's right, I'm discarding the random deviation while vaeing. That might not be the normal thing to do...\n",
    "# Anyway, these functions are helpers that encode and decode.\n",
    "def imgs2vecs(model,img):\n",
    "    with torch.no_grad():\n",
    "        z = model.module.encoder(img)\n",
    "    return z[..., :100] # we only like mu\n",
    "def vecs2imgs(model,vec):\n",
    "    with torch.no_grad():\n",
    "        img = model.module.decoder(vec.unsqueeze(-1).unsqueeze(-1))\n",
    "    return img\n",
    "def imgs2imgs(model,img):\n",
    "    return vecs2imgs(\n",
    "                model,\n",
    "                imgs2vecs(\n",
    "                    model,\n",
    "                    img\n",
    "                )\n",
    "    )"
   ]
  },
  {
   "cell_type": "code",
   "execution_count": 40,
   "metadata": {},
   "outputs": [],
   "source": [
    "def loadmodel(given_filename):\n",
    "    \"\"\"Tool for loading checkpoints which are spread across 4 different directories\n",
    "        In the future I will give each model it's own directory and just name\n",
    "        the checkpoints by the epoch.\"\"\"\n",
    "    root = \"/checkpoint/ttrim/\"\n",
    "    \n",
    "    if \"vae\" in given_filename:\n",
    "        subdir = (\"fvae_pt1/\",\n",
    "                  \"fvae_pt2/\",\n",
    "                 )\n",
    "        \n",
    "        for di in subdir:\n",
    "            filename = root+di+given_filename\n",
    "            try:\n",
    "                vaeModel.load_state_dict(torch.load(filename))\n",
    "                return vaeModel\n",
    "            except FileNotFoundError:\n",
    "                pass\n",
    "        raise FileNotFoundError(f\"couldn't find {filename}\")\n",
    "    else:\n",
    "        subdir = (\"fae_pt1/\",\n",
    "                  \"fae_pt2/\",\n",
    "                 )\n",
    "        \n",
    "        for di in subdir:\n",
    "            filename = root+di+given_filename\n",
    "            try:\n",
    "                aeModel.load_state_dict(torch.load(filename))\n",
    "                return aeModel\n",
    "            except FileNotFoundError:\n",
    "                pass\n",
    "        raise FileNotFoundError(f\"couldn't find {filename}\")"
   ]
  },
  {
   "cell_type": "markdown",
   "metadata": {},
   "source": [
    "# Define AUC function"
   ]
  },
  {
   "cell_type": "code",
   "execution_count": 42,
   "metadata": {},
   "outputs": [],
   "source": [
    "\n",
    "\n",
    "import torch \n",
    "from sklearn.metrics import roc_auc_score#Get Error Maps \n",
    "\n",
    "def get_auc(reconstructions):\n",
    "    error_maps = torch.abs(reconstructions - sample_tensor)\n",
    "\n",
    "    #Get Error Maps with 1 channel\n",
    "    error_maps = torch.sum(error_maps, dim=1)   #Flatten Error Maps to vector\n",
    "\n",
    "    flat_error_maps = torch.flatten(error_maps)#Flatten Ground Truth Segmentation labels to vector \n",
    "    flat_labels = torch.flatten(masks_tensor)\n",
    "    #Scale Error Maps between 0 and 1 to yield segmentation prediction\n",
    "    flat_segmentation_predictions = (\n",
    "        ( flat_error_maps - torch.min(flat_error_maps) ) / \n",
    "        (torch.max(flat_error_maps) - torch.min(flat_error_maps) )\n",
    "    )\n",
    "    res = roc_auc_score(flat_labels.cpu().numpy(), flat_segmentation_predictions.cpu().numpy())\n",
    "    \n",
    "    return(res)\n"
   ]
  },
  {
   "cell_type": "code",
   "execution_count": 43,
   "metadata": {},
   "outputs": [],
   "source": [
    "# set parameters of model I want to use\n",
    "frill, lmda, epoch = \"ae\", \"0.0\", \"300\"\n",
    "model = loadmodel(f\"fish{frill}_v1_lmda{lmda}_epo{epoch}.pt\")"
   ]
  },
  {
   "cell_type": "code",
   "execution_count": 44,
   "metadata": {},
   "outputs": [
    {
     "name": "stdout",
     "output_type": "stream",
     "text": [
      "torch.Size([300, 3, 128, 128])\n",
      "torch.Size([300, 1, 128, 128])\n"
     ]
    }
   ],
   "source": [
    "print(sample_tensor.size())\n",
    "print(masks_tensor.size())"
   ]
  },
  {
   "cell_type": "code",
   "execution_count": 45,
   "metadata": {},
   "outputs": [],
   "source": [
    "reconstructions = imgs2imgs(model,sample_tensor)\n",
    "auc = get_auc(reconstructions)"
   ]
  },
  {
   "cell_type": "code",
   "execution_count": 50,
   "metadata": {},
   "outputs": [
    {
     "name": "stdout",
     "output_type": "stream",
     "text": [
      "0.7752068374952521\n"
     ]
    }
   ],
   "source": [
    "print(auc)"
   ]
  },
  {
   "cell_type": "markdown",
   "metadata": {},
   "source": [
    "### Now I'll try it on all 6 of the different models I trained"
   ]
  },
  {
   "cell_type": "code",
   "execution_count": 52,
   "metadata": {},
   "outputs": [
    {
     "name": "stdout",
     "output_type": "stream",
     "text": [
      "fae L0.0 E300 auc: 0.7752068373115498\n",
      "fae L0.5 E300 auc: 0.7760429056086909\n",
      "fae L0.9 E300 auc: 0.7726514317472855\n",
      "fvae L0.0 E300 auc: 0.7856528453549411\n",
      "fvae L0.5 E300 auc: 0.7856065916531353\n",
      "fvae L0.9 E300 auc: 0.7404475204377957\n"
     ]
    }
   ],
   "source": [
    "epoch = \"300\"\n",
    "for frill in (\"ae\",\"vae\"):\n",
    "    for lmda in (\"0.0\",\"0.5\",\"0.9\"):\n",
    "        model = loadmodel(f\"fish{frill}_v1_lmda{lmda}_epo{epoch}.pt\")\n",
    "        reconstructions = imgs2imgs(model,sample_tensor)\n",
    "        auc = get_auc(reconstructions)\n",
    "        print(f\"f{frill} L{lmda} E{epoch} auc: {auc}\")"
   ]
  },
  {
   "cell_type": "markdown",
   "metadata": {},
   "source": [
    "### How about a graph of the AUC score over time?\n",
    "This really does take a long time to do because of loading each model.\n",
    "It would certainly be better to dump these values during training,\n",
    "but that would require superhuman forsight."
   ]
  },
  {
   "cell_type": "code",
   "execution_count": 55,
   "metadata": {},
   "outputs": [
    {
     "data": {
      "application/vnd.jupyter.widget-view+json": {
       "model_id": "c55ea240d7384c7699cba9dfe9880436",
       "version_major": 2,
       "version_minor": 0
      },
      "text/plain": [
       "HBox(children=(FloatProgress(value=0.0, max=2.0), HTML(value='')))"
      ]
     },
     "metadata": {},
     "output_type": "display_data"
    },
    {
     "data": {
      "application/vnd.jupyter.widget-view+json": {
       "model_id": "",
       "version_major": 2,
       "version_minor": 0
      },
      "text/plain": [
       "HBox(children=(FloatProgress(value=0.0, max=3.0), HTML(value='')))"
      ]
     },
     "metadata": {},
     "output_type": "display_data"
    },
    {
     "data": {
      "application/vnd.jupyter.widget-view+json": {
       "model_id": "",
       "version_major": 2,
       "version_minor": 0
      },
      "text/plain": [
       "HBox(children=(FloatProgress(value=0.0, max=31.0), HTML(value='')))"
      ]
     },
     "metadata": {},
     "output_type": "display_data"
    },
    {
     "data": {
      "application/vnd.jupyter.widget-view+json": {
       "model_id": "",
       "version_major": 2,
       "version_minor": 0
      },
      "text/plain": [
       "HBox(children=(FloatProgress(value=0.0, max=31.0), HTML(value='')))"
      ]
     },
     "metadata": {},
     "output_type": "display_data"
    },
    {
     "data": {
      "application/vnd.jupyter.widget-view+json": {
       "model_id": "",
       "version_major": 2,
       "version_minor": 0
      },
      "text/plain": [
       "HBox(children=(FloatProgress(value=0.0, max=31.0), HTML(value='')))"
      ]
     },
     "metadata": {},
     "output_type": "display_data"
    },
    {
     "data": {
      "application/vnd.jupyter.widget-view+json": {
       "model_id": "",
       "version_major": 2,
       "version_minor": 0
      },
      "text/plain": [
       "HBox(children=(FloatProgress(value=0.0, max=3.0), HTML(value='')))"
      ]
     },
     "metadata": {},
     "output_type": "display_data"
    },
    {
     "data": {
      "application/vnd.jupyter.widget-view+json": {
       "model_id": "",
       "version_major": 2,
       "version_minor": 0
      },
      "text/plain": [
       "HBox(children=(FloatProgress(value=0.0, max=31.0), HTML(value='')))"
      ]
     },
     "metadata": {},
     "output_type": "display_data"
    },
    {
     "data": {
      "application/vnd.jupyter.widget-view+json": {
       "model_id": "",
       "version_major": 2,
       "version_minor": 0
      },
      "text/plain": [
       "HBox(children=(FloatProgress(value=0.0, max=31.0), HTML(value='')))"
      ]
     },
     "metadata": {},
     "output_type": "display_data"
    },
    {
     "data": {
      "application/vnd.jupyter.widget-view+json": {
       "model_id": "",
       "version_major": 2,
       "version_minor": 0
      },
      "text/plain": [
       "HBox(children=(FloatProgress(value=0.0, max=31.0), HTML(value='')))"
      ]
     },
     "metadata": {},
     "output_type": "display_data"
    },
    {
     "name": "stdout",
     "output_type": "stream",
     "text": [
      "\n"
     ]
    }
   ],
   "source": [
    "\n",
    "#mode = \"debug\"\n",
    "#mode = \"small\"\n",
    "mode = \"full\"\n",
    "\n",
    "if mode==\"debug\":\n",
    "    frills = (\"ae\",)\n",
    "    lmdas = (\"0.0\",)\n",
    "    epochs = (\"500\",)\n",
    "elif mode == \"small\":\n",
    "    frills = (\"ae\",\"vae\")\n",
    "    lmdas = (\"0.0\",\"0.5\",\"0.9\")\n",
    "    epochs = (\"1\",\"5\",\"20\",\"100\",\"500\")\n",
    "elif mode == \"full\":\n",
    "    frills = (\"ae\",\"vae\")\n",
    "    lmdas = (\"0.0\",\"0.5\",\"0.9\")\n",
    "    epochs = (\"1\",\"2\",\"3\",\"5\",\"8\",\"13\",\"20\",\"40\",\"60\",\"80\",\"100\",\"120\",\"140\",\n",
    "              \"160\",\"180\",\"200\",\"220\",\"240\",\"260\",\"280\",\"300\",\"320\",\"340\",\"360\",\n",
    "              \"380\",\"400\",\"420\",\"440\",\"460\",\"480\",\"500\",)# 31\n",
    "    # 2 x 3 x 31 = 186 models\n",
    "    # 186 * 1/4 min = 46~ min... meh I'll do small\n",
    "else:\n",
    "    raise\n",
    "\n",
    "aucs = {}\n",
    "\n",
    "for frill in tqdm(frills):\n",
    " aucs[frill] = {}\n",
    " for lmda in tqdm(lmdas, leave=False):\n",
    "  aucs[frill][lmda] = {\n",
    "      \"auc\":[],\n",
    "  }\n",
    "  for epoch in tqdm(epochs, leave=False):\n",
    "    model_file = f\"fish{frill}_v1_lmda{lmda}_epo{epoch}.pt\"\n",
    "    model = loadmodel(model_file)\n",
    "    \n",
    "    reconstructions = imgs2imgs(model,sample_tensor)\n",
    "    auc = get_auc(reconstructions)\n",
    "    \n",
    "    aucs[frill][lmda][\"auc\"] += [[epoch,auc]]\n",
    "    "
   ]
  },
  {
   "cell_type": "code",
   "execution_count": 56,
   "metadata": {},
   "outputs": [],
   "source": [
    "from matplotlib import pyplot as plt\n",
    "%matplotlib inline"
   ]
  },
  {
   "cell_type": "code",
   "execution_count": 57,
   "metadata": {},
   "outputs": [
    {
     "data": {
      "application/vnd.jupyter.widget-view+json": {
       "model_id": "f57f913dba4b478995aee3a531a47a56",
       "version_major": 2,
       "version_minor": 0
      },
      "text/plain": [
       "HBox(children=(FloatProgress(value=0.0, max=2.0), HTML(value='')))"
      ]
     },
     "metadata": {},
     "output_type": "display_data"
    },
    {
     "data": {
      "application/vnd.jupyter.widget-view+json": {
       "model_id": "",
       "version_major": 2,
       "version_minor": 0
      },
      "text/plain": [
       "HBox(children=(FloatProgress(value=0.0, max=3.0), HTML(value='')))"
      ]
     },
     "metadata": {},
     "output_type": "display_data"
    },
    {
     "data": {
      "application/vnd.jupyter.widget-view+json": {
       "model_id": "",
       "version_major": 2,
       "version_minor": 0
      },
      "text/plain": [
       "HBox(children=(FloatProgress(value=0.0, max=3.0), HTML(value='')))"
      ]
     },
     "metadata": {},
     "output_type": "display_data"
    },
    {
     "name": "stdout",
     "output_type": "stream",
     "text": [
      "\n"
     ]
    },
    {
     "data": {
      "image/png": "[encoded data removed]",
      "text/plain": [
       "<Figure size 1224x792 with 1 Axes>"
      ]
     },
     "metadata": {
      "needs_background": "light"
     },
     "output_type": "display_data"
    }
   ],
   "source": [
    "plt.rcParams[\"figure.figsize\"] = (17,11)\n",
    "\n",
    "plts = []\n",
    "pltnames = []\n",
    "for frill in tqdm(frills):\n",
    " for lmda in tqdm(lmdas, leave=False):\n",
    "    pltnames += [f\"f{frill} λ{lmda}\"]\n",
    "    plts+=[plt.plot(\n",
    "            list(int(x[0]) for x in aucs[frill][lmda][\"auc\"]),\n",
    "            list(float(x[1]) for x in aucs[frill][lmda][\"auc\"]),\n",
    "        )]\n",
    "\n",
    "plt.ylabel('AUC Score')\n",
    "plt.xlabel('Epoch')\n",
    "plt.legend(pltnames)\n",
    "plt.title(\"AUC\")\n",
    "plt.show()"
   ]
  },
  {
   "cell_type": "code",
   "execution_count": null,
   "metadata": {},
   "outputs": [],
   "source": []
  }
 ],
 "metadata": {
  "kernelspec": {
   "display_name": "Python 3",
   "language": "python",
   "name": "python3"
  },
  "language_info": {
   "codemirror_mode": {
    "name": "ipython",
    "version": 3
   },
   "file_extension": ".py",
   "mimetype": "text/x-python",
   "name": "python",
   "nbconvert_exporter": "python",
   "pygments_lexer": "ipython3",
   "version": "3.6.10"
  }
 },
 "nbformat": 4,
 "nbformat_minor": 4
}
