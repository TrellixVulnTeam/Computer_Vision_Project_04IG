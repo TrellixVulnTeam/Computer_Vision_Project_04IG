{
 "cells": [
  {
   "cell_type": "code",
   "execution_count": 1,
   "metadata": {},
   "outputs": [],
   "source": [
    "import torch\n",
    "import matplotlib.pyplot as plt\n",
    "import numpy as np\n",
    "import cv2 \n",
    "from albumentations.pytorch import ToTensorV2 # this allows the transform to output a PyTorch Tensor\n",
    "import albumentations as A\n",
    "from torch.utils.data import DataLoader\n",
    "from vector_cv_tools import utils as vutils\n",
    "from vector_cv_tools import datasets as vdatasets\n",
    "from vector_cv_tools import transforms as VT\n",
    "from skimage.color import label2rgb\n",
    "%matplotlib inline\n",
    "import torch.nn.functional as F"
   ]
  },
  {
   "cell_type": "code",
   "execution_count": 2,
   "metadata": {},
   "outputs": [],
   "source": [
    "torch.cuda.empty_cache() "
   ]
  },
  {
   "cell_type": "code",
   "execution_count": 3,
   "metadata": {},
   "outputs": [],
   "source": [
    "from lostandfound_loader import lostandfoundLoader\n",
    "from torch.utils import data"
   ]
  },
  {
   "cell_type": "code",
   "execution_count": 4,
   "metadata": {},
   "outputs": [
    {
     "name": "stdout",
     "output_type": "stream",
     "text": [
      "Found 1036 train images\n"
     ]
    }
   ],
   "source": [
    "data_path = \"/scratch/ssd002/datasets/lostandfound\"\n",
    "import scipy.misc\n",
    "t_loader = lostandfoundLoader(\n",
    "        data_path,\n",
    "        is_transform=True,\n",
    "        split=\"train\",\n",
    "        img_size=(128, 128),\n",
    "        augmentations=None,\n",
    "    )\n",
    "\n",
    "trainloader = data.DataLoader(\n",
    "        t_loader,\n",
    "        batch_size=4,\n",
    "        num_workers=2,\n",
    "        shuffle=True,\n",
    "    )\n",
    "\n",
    "\n"
   ]
  },
  {
   "cell_type": "code",
   "execution_count": 5,
   "metadata": {},
   "outputs": [],
   "source": [
    "def visualize_mvtec(img, mask):\n",
    "    figure, ax = plt.subplots(1, 2, figsize=(10, 10))\n",
    "    ax[0].imshow(img)\n",
    "    ax[0].set_axis_off()\n",
    "    ax[1].imshow(mask)\n",
    "    ax[1].set_axis_off()\n",
    "    plt.tight_layout()\n",
    "    plt.show()"
   ]
  },
  {
   "cell_type": "code",
   "execution_count": 6,
   "metadata": {},
   "outputs": [],
   "source": [
    "from convvae import ConvVAE, loss_fn"
   ]
  },
  {
   "cell_type": "code",
   "execution_count": 7,
   "metadata": {},
   "outputs": [],
   "source": [
    "def show_img_from_tensor(single_img):\n",
    "    single_img = single_img.permute(1,2,0).cpu().numpy()\n",
    "    plt.imshow(single_img)\n",
    "    plt.axis(\"off\")\n",
    "    plt.show()\n",
    "    \n",
    "def evaluate_and_show(model, single_input):\n",
    "    single_input = single_input.to(\"cuda\")\n",
    "    with torch.no_grad():\n",
    "        recon, mu, logvar = model(single_input)\n",
    "    loss = loss_fn(single_input, recon, mu , logvar)\n",
    "    print(\"Loss is: \", loss.item())\n",
    "    show_img_from_tensor(recon.squeeze(0))"
   ]
  },
  {
   "cell_type": "code",
   "execution_count": 8,
   "metadata": {},
   "outputs": [],
   "source": [
    "#basic_transform = VT.ComposeMVTecTransform([A.Resize(128, 128), A.ToFloat(max_value=255), ToTensorV2()])\n",
    "#test_dset = vdatasets.MVTec(MVTEC_ROOT_DIR, split=\"test\", mask_only= True ,obj_types=[\"toothbrush\"], transforms = basic_transform)\n",
    "#train_dset = vdatasets.MVTec(MVTEC_ROOT_DIR, split=\"train\", transforms = basic_transform, obj_types=[\"toothbrush\"])"
   ]
  },
  {
   "cell_type": "code",
   "execution_count": 8,
   "metadata": {},
   "outputs": [],
   "source": [
    "import torch\n",
    "import torch.nn as nn\n",
    "from torch.utils.data import DataLoader\n",
    "from torch.optim import Adam\n",
    "from tqdm import tqdm\n",
    "from albumentations.pytorch import ToTensorV2\n",
    "import albumentations as A\n",
    "from torchvision.utils import save_image\n",
    "from vector_cv_tools import utils as vutils\n",
    "from vector_cv_tools import transforms as VT\n",
    "from vector_cv_tools import datasets as vdatasets\n",
    "import torch\n",
    "import matplotlib.pyplot as plt\n",
    "import numpy as np\n",
    "import cv2 \n",
    "from albumentations.pytorch import ToTensorV2 # this allows the transform to output a PyTorch Tensor\n",
    "import albumentations as A\n",
    "from torch.utils.data import DataLoader\n",
    "from vector_cv_tools import utils as vutils\n",
    "from vector_cv_tools import datasets as vdatasets\n",
    "from vector_cv_tools import transforms as VT\n",
    "from skimage.color import label2rgb\n",
    "%matplotlib inline\n"
   ]
  },
  {
   "cell_type": "code",
   "execution_count": 9,
   "metadata": {},
   "outputs": [],
   "source": [
    "import torch\n",
    "import torch.nn as nn\n",
    "from torch.utils.data import DataLoader\n",
    "from torch.optim import Adam\n",
    "from tqdm import tqdm\n",
    "from albumentations.pytorch import ToTensorV2\n",
    "import albumentations as A\n",
    "from torchvision.utils import save_image\n",
    "from vector_cv_tools import utils as vutils\n",
    "from vector_cv_tools import transforms as VT\n",
    "from vector_cv_tools import datasets as vdatasets\n",
    "import torch\n",
    "import matplotlib.pyplot as plt\n",
    "import numpy as np\n",
    "import cv2 \n",
    "from albumentations.pytorch import ToTensorV2 # this allows the transform to output a PyTorch Tensor\n",
    "import albumentations as A\n",
    "from torch.utils.data import DataLoader\n",
    "from vector_cv_tools import utils as vutils\n",
    "from vector_cv_tools import datasets as vdatasets\n",
    "from vector_cv_tools import transforms as VT\n",
    "from skimage.color import label2rgb\n",
    "%matplotlib inline\n",
    "def apply_random_mask(img):\n",
    "        \"\"\"Randomly masks image\"\"\"\n",
    "        img_size=img.shape[0]\n",
    "        mask_size=50\n",
    "        y1 = np.random.randint(0, img.shape[0]- mask_size, 1)\n",
    "        x1 = np.random.randint(0, img.shape[1]- mask_size, 1)\n",
    "        y2, x2 = y1 + mask_size, x1 + mask_size\n",
    "        y1=int(y1)\n",
    "        y2=int(y2)\n",
    "        x1=int(x1)\n",
    "        x2=int(x2)\n",
    "        masked_part = img[y1:y2, x1:x2]\n",
    "        masked_img = img\n",
    "\n",
    "        masked_img[y1:y2, x1:x2] = 0\n",
    "        return masked_img, masked_part"
   ]
  },
  {
   "cell_type": "code",
   "execution_count": 11,
   "metadata": {},
   "outputs": [],
   "source": [
    "#import matplotlib.pyplot as plt\n",
    "#import matplotlib.image as mpimg\n",
    "#plt.imshow(mpimg.imread('Sample.png'))\n",
    "#img=mpimg.imread('Sample.png')\n",
    "#print(img.shape)\n",
    "#masked_img, masked_part=apply_random_mask(img)\n",
    "#plt.imshow(masked_img)"
   ]
  },
  {
   "cell_type": "code",
   "execution_count": 10,
   "metadata": {},
   "outputs": [],
   "source": [
    "def masking_image(img):\n",
    "    mask_size=20\n",
    "    x1 = np.random.randint(0, img.shape[2]- mask_size, 1)\n",
    "    x1=int(x1)\n",
    "    img[:,:,x1:x1+mask_size,x1:x1+mask_size]=1\n",
    "    return img"
   ]
  },
  {
   "cell_type": "code",
   "execution_count": 12,
   "metadata": {},
   "outputs": [
    {
     "name": "stderr",
     "output_type": "stream",
     "text": [
      "\n",
      "  0%|          | 0/40 [00:00<?, ?it/s]\u001b[A"
     ]
    },
    {
     "name": "stdout",
     "output_type": "stream",
     "text": [
      "train loss at epoch 1 is 1476.0000097797645\n"
     ]
    },
    {
     "name": "stderr",
     "output_type": "stream",
     "text": [
      "\n",
      "  2%|▎         | 1/40 [02:04<1:20:59, 124.61s/it]\u001b[A\n",
      "  5%|▌         | 2/40 [04:07<1:18:30, 123.96s/it]\u001b[A"
     ]
    },
    {
     "name": "stdout",
     "output_type": "stream",
     "text": [
      "train loss at epoch 2 is 1027.6740581262065\n"
     ]
    },
    {
     "name": "stderr",
     "output_type": "stream",
     "text": [
      "\n",
      "  8%|▊         | 3/40 [06:09<1:16:12, 123.57s/it]\u001b[A"
     ]
    },
    {
     "name": "stdout",
     "output_type": "stream",
     "text": [
      "train loss at epoch 3 is 926.9550546771311\n"
     ]
    },
    {
     "name": "stderr",
     "output_type": "stream",
     "text": [
      "\n",
      " 10%|█         | 4/40 [08:12<1:13:55, 123.21s/it]\u001b[A"
     ]
    },
    {
     "name": "stdout",
     "output_type": "stream",
     "text": [
      "train loss at epoch 4 is 879.9971211554921\n",
      "train loss at epoch 5 is 819.1656145957446\n"
     ]
    },
    {
     "name": "stderr",
     "output_type": "stream",
     "text": [
      "\n",
      " 12%|█▎        | 5/40 [10:16<1:12:09, 123.69s/it]\u001b[A\n",
      " 15%|█▌        | 6/40 [12:19<1:09:55, 123.40s/it]\u001b[A"
     ]
    },
    {
     "name": "stdout",
     "output_type": "stream",
     "text": [
      "train loss at epoch 6 is 795.088640249834\n"
     ]
    },
    {
     "name": "stderr",
     "output_type": "stream",
     "text": [
      "\n",
      " 18%|█▊        | 7/40 [14:22<1:07:43, 123.13s/it]\u001b[A"
     ]
    },
    {
     "name": "stdout",
     "output_type": "stream",
     "text": [
      "train loss at epoch 7 is 773.7156701990076\n"
     ]
    },
    {
     "name": "stderr",
     "output_type": "stream",
     "text": [
      "\n",
      " 20%|██        | 8/40 [16:24<1:05:35, 122.99s/it]\u001b[A"
     ]
    },
    {
     "name": "stdout",
     "output_type": "stream",
     "text": [
      "train loss at epoch 8 is 740.9948325727897\n",
      "train loss at epoch 9 is 716.3876981403837\n"
     ]
    },
    {
     "name": "stderr",
     "output_type": "stream",
     "text": [
      "\n",
      " 22%|██▎       | 9/40 [18:29<1:03:49, 123.53s/it]\u001b[A\n",
      " 25%|██▌       | 10/40 [20:31<1:01:33, 123.11s/it]\u001b[A"
     ]
    },
    {
     "name": "stdout",
     "output_type": "stream",
     "text": [
      "train loss at epoch 10 is 693.6020237396123\n"
     ]
    },
    {
     "name": "stderr",
     "output_type": "stream",
     "text": [
      "\n",
      " 28%|██▊       | 11/40 [22:34<59:26, 122.98s/it]  \u001b[A"
     ]
    },
    {
     "name": "stdout",
     "output_type": "stream",
     "text": [
      "train loss at epoch 11 is 680.1119655771145\n"
     ]
    },
    {
     "name": "stderr",
     "output_type": "stream",
     "text": [
      "\n",
      " 30%|███       | 12/40 [24:36<57:18, 122.81s/it]\u001b[A"
     ]
    },
    {
     "name": "stdout",
     "output_type": "stream",
     "text": [
      "train loss at epoch 12 is 664.4595872444536\n",
      "train loss at epoch 13 is 642.4290517563985\n"
     ]
    },
    {
     "name": "stderr",
     "output_type": "stream",
     "text": [
      "\n",
      " 32%|███▎      | 13/40 [26:41<55:31, 123.41s/it]\u001b[A\n",
      " 35%|███▌      | 14/40 [28:44<53:22, 123.17s/it]\u001b[A"
     ]
    },
    {
     "name": "stdout",
     "output_type": "stream",
     "text": [
      "train loss at epoch 14 is 625.590142091729\n"
     ]
    },
    {
     "name": "stderr",
     "output_type": "stream",
     "text": [
      "\n",
      " 38%|███▊      | 15/40 [30:46<51:14, 122.97s/it]\u001b[A"
     ]
    },
    {
     "name": "stdout",
     "output_type": "stream",
     "text": [
      "train loss at epoch 15 is 617.931004527913\n"
     ]
    },
    {
     "name": "stderr",
     "output_type": "stream",
     "text": [
      "\n",
      " 40%|████      | 16/40 [32:49<49:06, 122.77s/it]\u001b[A"
     ]
    },
    {
     "name": "stdout",
     "output_type": "stream",
     "text": [
      "train loss at epoch 16 is 610.9761654769131\n",
      "train loss at epoch 17 is 588.7443573115876\n"
     ]
    },
    {
     "name": "stderr",
     "output_type": "stream",
     "text": [
      "\n",
      " 42%|████▎     | 17/40 [34:53<47:16, 123.30s/it]\u001b[A\n",
      " 45%|████▌     | 18/40 [36:56<45:09, 123.14s/it]\u001b[A"
     ]
    },
    {
     "name": "stdout",
     "output_type": "stream",
     "text": [
      "train loss at epoch 18 is 579.5259402948917\n"
     ]
    },
    {
     "name": "stderr",
     "output_type": "stream",
     "text": [
      "\n",
      " 48%|████▊     | 19/40 [38:58<43:01, 122.95s/it]\u001b[A"
     ]
    },
    {
     "name": "stdout",
     "output_type": "stream",
     "text": [
      "train loss at epoch 19 is 566.8123691514652\n"
     ]
    },
    {
     "name": "stderr",
     "output_type": "stream",
     "text": [
      "\n",
      " 50%|█████     | 20/40 [41:01<40:56, 122.83s/it]\u001b[A"
     ]
    },
    {
     "name": "stdout",
     "output_type": "stream",
     "text": [
      "train loss at epoch 20 is 560.0876762949822\n",
      "train loss at epoch 21 is 552.1951962032833\n"
     ]
    },
    {
     "name": "stderr",
     "output_type": "stream",
     "text": [
      "\n",
      " 52%|█████▎    | 21/40 [43:06<39:06, 123.48s/it]\u001b[A\n",
      " 55%|█████▌    | 22/40 [45:08<36:56, 123.14s/it]\u001b[A"
     ]
    },
    {
     "name": "stdout",
     "output_type": "stream",
     "text": [
      "train loss at epoch 22 is 540.9503384741116\n"
     ]
    },
    {
     "name": "stderr",
     "output_type": "stream",
     "text": [
      "\n",
      " 57%|█████▊    | 23/40 [47:11<34:49, 122.93s/it]\u001b[A"
     ]
    },
    {
     "name": "stdout",
     "output_type": "stream",
     "text": [
      "train loss at epoch 23 is 530.9994212853862\n"
     ]
    },
    {
     "name": "stderr",
     "output_type": "stream",
     "text": [
      "\n",
      " 60%|██████    | 24/40 [49:13<32:44, 122.79s/it]\u001b[A"
     ]
    },
    {
     "name": "stdout",
     "output_type": "stream",
     "text": [
      "train loss at epoch 24 is 511.66028256213804\n",
      "train loss at epoch 25 is 507.70670722166085\n"
     ]
    },
    {
     "name": "stderr",
     "output_type": "stream",
     "text": [
      "\n",
      " 62%|██████▎   | 25/40 [51:18<30:50, 123.37s/it]\u001b[A\n",
      " 65%|██████▌   | 26/40 [53:20<28:43, 123.08s/it]\u001b[A"
     ]
    },
    {
     "name": "stdout",
     "output_type": "stream",
     "text": [
      "train loss at epoch 26 is 493.37734431557675\n"
     ]
    },
    {
     "name": "stderr",
     "output_type": "stream",
     "text": [
      "\n",
      " 68%|██████▊   | 27/40 [55:23<26:37, 122.85s/it]\u001b[A"
     ]
    },
    {
     "name": "stdout",
     "output_type": "stream",
     "text": [
      "train loss at epoch 27 is 503.67163569034295\n"
     ]
    },
    {
     "name": "stderr",
     "output_type": "stream",
     "text": [
      "\n",
      " 70%|███████   | 28/40 [57:25<24:32, 122.69s/it]\u001b[A"
     ]
    },
    {
     "name": "stdout",
     "output_type": "stream",
     "text": [
      "train loss at epoch 28 is 486.1089217727249\n",
      "train loss at epoch 29 is 476.6211917243869\n"
     ]
    },
    {
     "name": "stderr",
     "output_type": "stream",
     "text": [
      "\n",
      " 72%|███████▎  | 29/40 [59:29<22:35, 123.25s/it]\u001b[A\n",
      " 75%|███████▌  | 30/40 [1:01:32<20:31, 123.13s/it]\u001b[A"
     ]
    },
    {
     "name": "stdout",
     "output_type": "stream",
     "text": [
      "train loss at epoch 30 is 464.4386514788889\n"
     ]
    },
    {
     "name": "stderr",
     "output_type": "stream",
     "text": [
      "\n",
      " 78%|███████▊  | 31/40 [1:03:35<18:25, 122.88s/it]\u001b[A"
     ]
    },
    {
     "name": "stdout",
     "output_type": "stream",
     "text": [
      "train loss at epoch 31 is 462.8189067472362\n"
     ]
    },
    {
     "name": "stderr",
     "output_type": "stream",
     "text": [
      "\n",
      " 80%|████████  | 32/40 [1:05:37<16:21, 122.70s/it]\u001b[A"
     ]
    },
    {
     "name": "stdout",
     "output_type": "stream",
     "text": [
      "train loss at epoch 32 is 455.3994507660737\n",
      "train loss at epoch 33 is 444.94344857116465\n"
     ]
    },
    {
     "name": "stderr",
     "output_type": "stream",
     "text": [
      "\n",
      " 82%|████████▎ | 33/40 [1:07:41<14:22, 123.27s/it]\u001b[A\n",
      " 85%|████████▌ | 34/40 [1:09:44<12:17, 122.95s/it]\u001b[A"
     ]
    },
    {
     "name": "stdout",
     "output_type": "stream",
     "text": [
      "train loss at epoch 34 is 438.856112859424\n"
     ]
    },
    {
     "name": "stderr",
     "output_type": "stream",
     "text": [
      "\n",
      " 88%|████████▊ | 35/40 [1:11:46<10:13, 122.71s/it]\u001b[A"
     ]
    },
    {
     "name": "stdout",
     "output_type": "stream",
     "text": [
      "train loss at epoch 35 is 434.9450202853523\n"
     ]
    },
    {
     "name": "stderr",
     "output_type": "stream",
     "text": [
      "\n",
      " 90%|█████████ | 36/40 [1:13:48<08:10, 122.56s/it]\u001b[A"
     ]
    },
    {
     "name": "stdout",
     "output_type": "stream",
     "text": [
      "train loss at epoch 36 is 432.7015845692756\n",
      "train loss at epoch 37 is 422.138606539104\n"
     ]
    },
    {
     "name": "stderr",
     "output_type": "stream",
     "text": [
      "\n",
      " 92%|█████████▎| 37/40 [1:15:52<06:09, 123.12s/it]\u001b[A\n",
      " 95%|█████████▌| 38/40 [1:17:55<04:05, 122.82s/it]\u001b[A"
     ]
    },
    {
     "name": "stdout",
     "output_type": "stream",
     "text": [
      "train loss at epoch 38 is 420.1526508699513\n"
     ]
    },
    {
     "name": "stderr",
     "output_type": "stream",
     "text": [
      "\n",
      " 98%|█████████▊| 39/40 [1:19:57<02:02, 122.65s/it]\u001b[A"
     ]
    },
    {
     "name": "stdout",
     "output_type": "stream",
     "text": [
      "train loss at epoch 39 is 406.61616239216335\n"
     ]
    },
    {
     "name": "stderr",
     "output_type": "stream",
     "text": [
      "\n",
      "100%|██████████| 40/40 [1:21:59<00:00, 122.99s/it]\u001b[A"
     ]
    },
    {
     "name": "stdout",
     "output_type": "stream",
     "text": [
      "train loss at epoch 40 is 406.1442940612557\n"
     ]
    },
    {
     "name": "stderr",
     "output_type": "stream",
     "text": [
      "\n"
     ]
    }
   ],
   "source": [
    "#training model without loading the weights\n",
    "from convvae import  loss_fn\n",
    "device = torch.device(\"cuda:0\" if torch.cuda.is_available() else \"cpu\")\n",
    "\n",
    "model = ConvVAE().to(device)\n",
    "model = torch.nn.DataParallel(model)\n",
    "\n",
    "lr = 3e-5\n",
    "optimizer = Adam(model.parameters(), lr=lr)\n",
    "num_epochs = 40\n",
    "for epoch in tqdm(range(num_epochs)):\n",
    "        train_losses = []\n",
    "        for i, (data, _) in enumerate(trainloader):       \n",
    "            #Feeding model with the masked data \n",
    "            data = data.to(device)  \n",
    "            optimizer.zero_grad()\n",
    "            data_masked=masking_image(data)\n",
    "            recon, mu, logvar = model(data_masked)\n",
    "            loss1 = loss_fn(data, recon, mu, logvar)\n",
    "            loss1.backward()\n",
    "            optimizer.step()\n",
    "            \n",
    "            #Feeding model with the original data\n",
    "            optimizer.zero_grad()\n",
    "            recon2, mu, logvar = model(data)\n",
    "            loss2 = loss_fn(data, recon2, mu, logvar)\n",
    "            loss2.backward()\n",
    "            optimizer.step()\n",
    "            train_losses.append((loss1.item()+ loss2.item())/2)\n",
    "            if i % 200 == 0:\n",
    "                save_image(recon2.detach().cpu(), f\"Project/2000{epoch+1}_{i}_NewRound2_NEW.png\")\n",
    "        mean_loss = sum(train_losses) / len(train_losses) if (\n",
    "            len(train_losses) > 0) else 0\n",
    "        print(f\"train loss at epoch {epoch+1} is {mean_loss}\")\n",
    "        if (epoch % 4) == 0:\n",
    "            torch.save(model.state_dict(), f\"Project/2000NEW_model_{epoch}_NewRound2.pt\")"
   ]
  },
  {
   "cell_type": "code",
   "execution_count": 13,
   "metadata": {},
   "outputs": [
    {
     "name": "stderr",
     "output_type": "stream",
     "text": [
      "\n",
      "  0%|          | 0/21 [00:00<?, ?it/s]\u001b[A"
     ]
    },
    {
     "name": "stdout",
     "output_type": "stream",
     "text": [
      "train loss at epoch 1 is 444.7702506518272\n"
     ]
    },
    {
     "name": "stderr",
     "output_type": "stream",
     "text": [
      "\n",
      "  5%|▍         | 1/21 [02:05<41:53, 125.67s/it]\u001b[A\n",
      " 10%|▉         | 2/21 [04:08<39:29, 124.69s/it]\u001b[A"
     ]
    },
    {
     "name": "stdout",
     "output_type": "stream",
     "text": [
      "train loss at epoch 2 is 440.8149797005083\n"
     ]
    },
    {
     "name": "stderr",
     "output_type": "stream",
     "text": [
      "\n",
      " 14%|█▍        | 3/21 [06:10<37:12, 124.00s/it]\u001b[A"
     ]
    },
    {
     "name": "stdout",
     "output_type": "stream",
     "text": [
      "train loss at epoch 3 is 429.0363529161137\n"
     ]
    },
    {
     "name": "stderr",
     "output_type": "stream",
     "text": [
      "\n",
      " 19%|█▉        | 4/21 [08:12<34:58, 123.47s/it]\u001b[A"
     ]
    },
    {
     "name": "stdout",
     "output_type": "stream",
     "text": [
      "train loss at epoch 4 is 419.25911809854983\n",
      "train loss at epoch 5 is 417.5417747350273\n"
     ]
    },
    {
     "name": "stderr",
     "output_type": "stream",
     "text": [
      "\n",
      " 24%|██▍       | 5/21 [10:17<33:02, 123.88s/it]\u001b[A\n",
      " 29%|██▊       | 6/21 [12:19<30:50, 123.40s/it]\u001b[A"
     ]
    },
    {
     "name": "stdout",
     "output_type": "stream",
     "text": [
      "train loss at epoch 6 is 410.9146377975876\n"
     ]
    },
    {
     "name": "stderr",
     "output_type": "stream",
     "text": [
      "\n",
      " 33%|███▎      | 7/21 [14:22<28:43, 123.10s/it]\u001b[A"
     ]
    },
    {
     "name": "stdout",
     "output_type": "stream",
     "text": [
      "train loss at epoch 7 is 405.7104429149259\n"
     ]
    },
    {
     "name": "stderr",
     "output_type": "stream",
     "text": [
      "\n",
      " 38%|███▊      | 8/21 [16:24<26:38, 122.99s/it]\u001b[A"
     ]
    },
    {
     "name": "stdout",
     "output_type": "stream",
     "text": [
      "train loss at epoch 8 is 408.7256915118243\n",
      "train loss at epoch 9 is 390.1324029281793\n"
     ]
    },
    {
     "name": "stderr",
     "output_type": "stream",
     "text": [
      "\n",
      " 43%|████▎     | 9/21 [18:29<24:41, 123.48s/it]\u001b[A\n",
      " 48%|████▊     | 10/21 [20:31<22:34, 123.11s/it]\u001b[A"
     ]
    },
    {
     "name": "stdout",
     "output_type": "stream",
     "text": [
      "train loss at epoch 10 is 388.3118792206164\n"
     ]
    },
    {
     "name": "stderr",
     "output_type": "stream",
     "text": [
      "\n",
      " 52%|█████▏    | 11/21 [22:33<20:27, 122.76s/it]\u001b[A"
     ]
    },
    {
     "name": "stdout",
     "output_type": "stream",
     "text": [
      "train loss at epoch 11 is 382.1251443988108\n"
     ]
    },
    {
     "name": "stderr",
     "output_type": "stream",
     "text": [
      "\n",
      " 57%|█████▋    | 12/21 [24:36<18:23, 122.66s/it]\u001b[A"
     ]
    },
    {
     "name": "stdout",
     "output_type": "stream",
     "text": [
      "train loss at epoch 12 is 383.35975004807403\n",
      "train loss at epoch 13 is 373.63357019608543\n"
     ]
    },
    {
     "name": "stderr",
     "output_type": "stream",
     "text": [
      "\n",
      " 62%|██████▏   | 13/21 [26:40<16:26, 123.26s/it]\u001b[A\n",
      " 67%|██████▋   | 14/21 [28:43<14:20, 122.97s/it]\u001b[A"
     ]
    },
    {
     "name": "stdout",
     "output_type": "stream",
     "text": [
      "train loss at epoch 14 is 372.3537558183707\n"
     ]
    },
    {
     "name": "stderr",
     "output_type": "stream",
     "text": [
      "\n",
      " 71%|███████▏  | 15/21 [30:45<12:16, 122.75s/it]\u001b[A"
     ]
    },
    {
     "name": "stdout",
     "output_type": "stream",
     "text": [
      "train loss at epoch 15 is 367.2020875790865\n"
     ]
    },
    {
     "name": "stderr",
     "output_type": "stream",
     "text": [
      "\n",
      " 76%|███████▌  | 16/21 [32:47<10:13, 122.66s/it]\u001b[A"
     ]
    },
    {
     "name": "stdout",
     "output_type": "stream",
     "text": [
      "train loss at epoch 16 is 363.2889759549763\n",
      "train loss at epoch 17 is 361.2430727748797\n"
     ]
    },
    {
     "name": "stderr",
     "output_type": "stream",
     "text": [
      "\n",
      " 81%|████████  | 17/21 [34:52<08:13, 123.26s/it]\u001b[A\n",
      " 86%|████████▌ | 18/21 [36:54<06:08, 122.98s/it]\u001b[A"
     ]
    },
    {
     "name": "stdout",
     "output_type": "stream",
     "text": [
      "train loss at epoch 18 is 353.0971954522446\n"
     ]
    },
    {
     "name": "stderr",
     "output_type": "stream",
     "text": [
      "\n",
      " 90%|█████████ | 19/21 [38:57<04:05, 122.82s/it]\u001b[A"
     ]
    },
    {
     "name": "stdout",
     "output_type": "stream",
     "text": [
      "train loss at epoch 19 is 351.00312996647074\n"
     ]
    },
    {
     "name": "stderr",
     "output_type": "stream",
     "text": [
      "\n",
      " 95%|█████████▌| 20/21 [40:59<02:02, 122.65s/it]\u001b[A"
     ]
    },
    {
     "name": "stdout",
     "output_type": "stream",
     "text": [
      "train loss at epoch 20 is 341.63709801044246\n",
      "train loss at epoch 21 is 341.18578435831546\n"
     ]
    },
    {
     "name": "stderr",
     "output_type": "stream",
     "text": [
      "\n",
      "100%|██████████| 21/21 [43:04<00:00, 123.06s/it]\u001b[A\n"
     ]
    }
   ],
   "source": [
    "#training model without loading the weights\n",
    "#from convvae import  loss_fn\n",
    "#device = torch.device(\"cuda:0\" if torch.cuda.is_available() else \"cpu\")\n",
    "\n",
    "#model = ConvVAE().to(device)\n",
    "#model = torch.nn.DataParallel(model)\n",
    "\n",
    "Path=\"Project/2000NEW_model_32_NewRound2.pt\"\n",
    "model.load_state_dict(torch.load(Path))\n",
    "\n",
    "lr = 3e-5\n",
    "optimizer = Adam(model.parameters(), lr=lr)\n",
    "num_epochs = 21\n",
    "for epoch in tqdm(range(num_epochs)):\n",
    "        train_losses = []\n",
    "        for i, (data, _) in enumerate(trainloader):       \n",
    "            #Feeding model with the masked data \n",
    "            data = data.to(device)  \n",
    "            optimizer.zero_grad()\n",
    "            data_masked=masking_image(data)\n",
    "            recon, mu, logvar = model(data_masked)\n",
    "            loss1 = loss_fn(data, recon, mu, logvar)\n",
    "            loss1.backward()\n",
    "            optimizer.step()\n",
    "            \n",
    "            #Feeding model with the original data\n",
    "            optimizer.zero_grad()\n",
    "            recon2, mu, logvar = model(data)\n",
    "            loss2 = loss_fn(data, recon2, mu, logvar)\n",
    "            loss2.backward()\n",
    "            optimizer.step()\n",
    "            train_losses.append((loss1.item()+ loss2.item())/2)\n",
    "            if i % 200 == 0:\n",
    "                save_image(recon2.detach().cpu(), f\"Project/2000{epoch+1+40}_{i}_NewRound2_NEW.png\")\n",
    "        mean_loss = sum(train_losses) / len(train_losses) if (\n",
    "            len(train_losses) > 0) else 0\n",
    "        print(f\"train loss at epoch {epoch+1} is {mean_loss}\")\n",
    "        if (epoch % 4) == 0:\n",
    "            torch.save(model.state_dict(), f\"Project/2000NEW_model_{epoch+40}_NewRound2.pt\")"
   ]
  },
  {
   "cell_type": "code",
   "execution_count": null,
   "metadata": {},
   "outputs": [],
   "source": [
    "from convvae import  loss_fn\n",
    "device = torch.device(\"cuda:0\" if torch.cuda.is_available() else \"cpu\")\n",
    "Path=\"Project/2000NEW_model_60_NewRound2.pt\"\n",
    "model = ConvVAE().to(device)\n",
    "model = torch.nn.DataParallel(model)\n",
    "model.load_state_dict(torch.load(Path))\n",
    "from convvae import  loss_fn\n",
    "\n",
    "for i, (data, _) in enumerate(trainloader): \n",
    "    if (i<11):\n",
    "        recon2, mu, logvar = model(data)\n",
    "        save_image(data.detach().cpu(), f\"Samples/Real_{i}.png\")\n",
    "        save_image(recon2.detach().cpu(), f\"Samples/Pre_{i}.png\")"
   ]
  },
  {
   "cell_type": "code",
   "execution_count": null,
   "metadata": {},
   "outputs": [],
   "source": []
  },
  {
   "cell_type": "code",
   "execution_count": null,
   "metadata": {},
   "outputs": [],
   "source": []
  },
  {
   "cell_type": "code",
   "execution_count": null,
   "metadata": {},
   "outputs": [],
   "source": []
  },
  {
   "cell_type": "code",
   "execution_count": null,
   "metadata": {},
   "outputs": [],
   "source": []
  },
  {
   "cell_type": "code",
   "execution_count": null,
   "metadata": {},
   "outputs": [],
   "source": []
  }
 ],
 "metadata": {
  "kernelspec": {
   "display_name": "Python 3",
   "language": "python",
   "name": "python3"
  },
  "language_info": {
   "codemirror_mode": {
    "name": "ipython",
    "version": 3
   },
   "file_extension": ".py",
   "mimetype": "text/x-python",
   "name": "python",
   "nbconvert_exporter": "python",
   "pygments_lexer": "ipython3",
   "version": "3.6.10"
  }
 },
 "nbformat": 4,
 "nbformat_minor": 4
}
